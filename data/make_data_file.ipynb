{
 "cells": [
  {
   "cell_type": "code",
   "execution_count": 143,
   "metadata": {},
   "outputs": [
    {
     "name": "stdout",
     "output_type": "stream",
     "text": [
      "['label.json', '.ipynb_checkpoints', 'SlotFilling.ipynb', 'slot.csv', 'data.json']\n"
     ]
    }
   ],
   "source": [
    "import os\n",
    "import pandas as pd\n",
    "import json\n",
    "import csv\n",
    "print(os.listdir(\".\"))"
   ]
  },
  {
   "cell_type": "markdown",
   "metadata": {},
   "source": [
    "# Slots' name in our data"
   ]
  },
  {
   "cell_type": "code",
   "execution_count": 136,
   "metadata": {},
   "outputs": [],
   "source": [
    "from enum import Enum\n",
    "\n",
    "class Label(Enum):\n",
    "    B_2param  = 0\n",
    "    B_2param2 = 1\n",
    "    B_3param  = 2\n",
    "    B_param   = 3\n",
    "    B_param2  = 4\n",
    "    B_param3  = 5\n",
    "    I_2param  = 6\n",
    "    I_2param2 = 7\n",
    "    I_3param  = 8\n",
    "    I_param   = 9\n",
    "    I_param2  = 10\n",
    "    O         = 11\n"
   ]
  },
  {
   "cell_type": "markdown",
   "metadata": {},
   "source": [
    "Read data"
   ]
  },
  {
   "cell_type": "code",
   "execution_count": 160,
   "metadata": {
    "collapsed": true
   },
   "outputs": [],
   "source": [
    "with open('data.json') as f:\n",
    "    data_query = json.load(f)\n",
    "    \n",
    "with open('label.json') as f:\n",
    "    data_slots = json.load(f)"
   ]
  },
  {
   "cell_type": "markdown",
   "metadata": {},
   "source": [
    "Get index from our data (question number)"
   ]
  },
  {
   "cell_type": "code",
   "execution_count": 195,
   "metadata": {},
   "outputs": [],
   "source": [
    "keys = list(data_slots.keys()) # is same as data_query.keys()"
   ]
  },
  {
   "cell_type": "code",
   "execution_count": 317,
   "metadata": {},
   "outputs": [],
   "source": [
    "\"\"\"\n",
    "make_slot : Make the data which contain slots (slot name)\n",
    "@query : The labels we set.\n",
    "@label : Each problem has different labels. Therefore, Fetch the label which is set for each questions.\n",
    "@slots : Using class Label, replace query to slots\n",
    "\"\"\"\n",
    "\n",
    "def make_slot():\n",
    "    for key in keys:\n",
    "        query = [] # we assigned before per question \n",
    "        label = data_slots[key] # label in each question\n",
    "        slots = []  # integrate label : the output\n",
    "\n",
    "        for l in data_query[key]: # l : label\n",
    "            int_label = int(l[1]) # if it is \"O\"\n",
    "            if(int_label == 0):\n",
    "                slots.append(Label.O.value)\n",
    "                #query.append(int(l[1]))\n",
    "            else:                 # if it is not \"O\", such as \"B\" and \"I\"\n",
    "                label_name = label[int_label-1]\n",
    "                label_name = label_name.replace(\"-\", \"_\") # we have \"-\" in string, so change it as \"_\"\n",
    "                slots.append(Label[label_name].value)\n",
    "\n",
    "                #query.append(int(l[1]))\n",
    "\n",
    "        #print(query)\n",
    "        print(slots)\n",
    "        print(label)\n",
    "\n",
    "        # save slots in csv\n",
    "        with open('slots.csv', 'a') as csvFile:\n",
    "            writer = csv.writer(csvFile)\n",
    "            writer.writerow(slots)\n",
    "        csvFile.close()\n",
    "\n",
    "        print(\"\\n\")\n",
    "        \n",
    "\n",
    "    \n",
    "\"\"\"\n",
    "make_query : Make the data which contain query, the word vector\n",
    "@query : It is an output. It takes the query of question(word vector)\n",
    "@label : Each problem has different labels. Therefore, Fetch the label which is set for each questions.\n",
    "\"\"\"\n",
    "\n",
    "def make_query():\n",
    "    voca = make_voca()\n",
    "\n",
    "    for key in keys:\n",
    "        index_BOS = voca.index(\"<BOS>\")\n",
    "        query = [index_BOS] # we assigned before per question \n",
    "\n",
    "        for l in data_query[key]: # l : label\n",
    "            # if it is \"O\"\n",
    "            print(l[0])\n",
    "            index = voca.index(l[0])\n",
    "            query.append(index)\n",
    "\n",
    "        index_EOS = voca.index(\"<EOS>\") \n",
    "        query.append(index_EOS)\n",
    "        print(query)\n",
    "\n",
    "        # save slots in csv\n",
    "        with open('query.csv', 'a') as csvFile:\n",
    "            writer = csv.writer(csvFile)\n",
    "            writer.writerow(query)\n",
    "        csvFile.close()\n",
    "\n",
    "        print(\"\\n\")\n",
    "        \n",
    "\"\"\"\n",
    "make_voca : To make vocabulary, collect all words, remove duplicates, and create vocabulary set. \n",
    "\"\"\"    \n",
    "def make_voca():\n",
    "    voca = []\n",
    "    for key in keys:\n",
    "        words = data_query.values()\n",
    "\n",
    "        for i in data_query[key]:\n",
    "            word = i[0]\n",
    "            voca.append(word)\n",
    "\n",
    "    voca = list(set(voca))\n",
    "    voca.sort(reverse = False) \n",
    "    \n",
    "    #add BOS (Beginning of Sentense) and EOS (End of Sentense) \n",
    "    voca.append(\"<BOS>\")\n",
    "    voca.append(\"<EOS>\")\n",
    "    \n",
    "\n",
    "    #save voca in csv\n",
    "    with open('voca.csv', 'a') as csvFile:\n",
    "        writer = csv.writer(csvFile, delimiter=',')\n",
    "        for v in voca:\n",
    "            writer.writerow([v])\n",
    "    csvFile.close()\n",
    "    \n",
    "    \n",
    "    return voca"
   ]
  },
  {
   "cell_type": "code",
   "execution_count": null,
   "metadata": {
    "collapsed": true
   },
   "outputs": [],
   "source": []
  }
 ],
 "metadata": {
  "kernelspec": {
   "display_name": "Python 3",
   "language": "python",
   "name": "python3"
  },
  "language_info": {
   "codemirror_mode": {
    "name": "ipython",
    "version": 3
   },
   "file_extension": ".py",
   "mimetype": "text/x-python",
   "name": "python",
   "nbconvert_exporter": "python",
   "pygments_lexer": "ipython3",
   "version": "3.5.2"
  }
 },
 "nbformat": 4,
 "nbformat_minor": 2
}
